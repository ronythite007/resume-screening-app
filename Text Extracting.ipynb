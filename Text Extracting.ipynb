{
 "cells": [
  {
   "cell_type": "markdown",
   "id": "41a805d1-f3b4-46b8-bd76-7810b4ebc984",
   "metadata": {},
   "source": [
    "# Testing "
   ]
  },
  {
   "cell_type": "code",
   "execution_count": 3,
   "id": "2a6c18c9-63b1-4104-8353-58f4fc4f55af",
   "metadata": {},
   "outputs": [],
   "source": [
    "import PyPDF2"
   ]
  },
  {
   "cell_type": "code",
   "execution_count": 17,
   "id": "77deb68e-11e9-4675-88a1-7fbcfed0c857",
   "metadata": {},
   "outputs": [
    {
     "data": {
      "text/plain": [
       "'ROHAN THITE\\nrohanthite9293@gmail.com | (+91) 9284635030 |www.linkedin.com/in/rohan-thite-606000294\\nSKILLS\\nCore: OOPs, Database Management Systems, Data Structure, Algorithm\\nProgramming Languages: Python,C++, SQL,HTML,CSS\\nFrameworks: Pandas, NumPy, Matplotlib, Scikit-learn\\nTools: GIT, VS Code, PowerBI , Jupyter Notebook\\nDatabases: MySQL\\nLanguages: Fluent in English and Hindi\\nPROJECTS\\nTata Data Visualisation:\\nEmpowering Business with Effective Insights Job Simulation on Forage    \\nCompleted a simulation involving creating data visualizations for Tata Consultancy Services\\nPrepared questions for a meeting with client senior leadership\\nCreated visuals for data analysis to help executives with effective decision making\\nJuly2024 Comprehensive Machine Learning Projects \\nImplemented end-to-end ML projects covering Regression, Classification, Clustering, and Model\\nEvaluation, delivering real-world solutions with optimized performance and deployment.\\nHome Price Prediction: Regression model deployed with Flask.\\nCelebrity Image Classification: CNN-based image classification.\\nCrop Disease Detection: Chatbot-integrated disease detection system.\\nTechnologies: Python, Scikit-learn, TensorFlow, Pandas, Flask, C++.June2024\\nImplemented end-to-end deep learning projects in Neural Network ,Classification, optimizing models\\nfor performance and deployment.\\nPotato Disease Classification: CNN-based model for disease detection.\\nImage Classification: Multi-class CNN model for various image tasks.\\nHandwritten Digit Classification: CNN model for digit recognition (MNIST).\\n  • Technologies: Python, TensorFlow, Keras, PyTorch, OpenCV, NumPy, PandasDeep Learning ProjectsSep2024\\nEDUCATION\\n•  Zeal College Engineering And Reasearch Pune ( Savitribai Phule Pune University )\\n   Bachelor of Technology (B.Tech) in Artificial Intelligence & Data Science |  SGPA: 9.59 \\n   (Aug 2022-Jun2026)\\n• Bharti Vidhyapeeth ,Pune\\n  Higher Secondary School (XII) Aug2022 - Jun2026Link\\nEXPERIENCE\\nTata Data Visualization Intern (Virtual)\\n       - Developed dashboards and reports to visualize business data and drive insights.\\n       - Analyzed large datasets to identify trends and support data-driven decisions.www.linkedin.com/in/rohan-thite-606000294portfolio\\n'"
      ]
     },
     "execution_count": 17,
     "metadata": {},
     "output_type": "execute_result"
    }
   ],
   "source": [
    "# Function to extract text from pdf\n",
    "def extract_text_from_pdf(file_path):\n",
    "    with open(file_path, 'rb') as file:\n",
    "        pdf_reader = PyPDF2.PdfReader(file)\n",
    "        text = ''\n",
    "        for page in pdf_reader.pages:\n",
    "            page_text = page.extract_text()\n",
    "            if page_text:\n",
    "                text += page_text + '\\n'\n",
    "    return text\n",
    "\n",
    "file_path = 'Updated_Resume.pdf'\n",
    "resume_text = extract_text_from_pdf(file_path)\n",
    "resume_text"
   ]
  },
  {
   "cell_type": "code",
   "execution_count": 21,
   "id": "b5744042-ca47-4510-bd4e-5a44cfc964fd",
   "metadata": {},
   "outputs": [],
   "source": [
    "import re\n",
    "def processing(txt):\n",
    "    cleanText = re.sub('http\\S+\\s', ' ', txt)\n",
    "    cleanText = re.sub('RT|cc', ' ', cleanText)\n",
    "    cleanText = re.sub('#\\S+\\s', ' ', cleanText)\n",
    "    cleanText = re.sub('@\\S+', '  ', cleanText)  \n",
    "    cleanText = re.sub('[%s]' % re.escape(\"\"\"!\"#$%&'()*+,-./:;<=>?@[\\]^_`{|}~\"\"\"), ' ', cleanText)\n",
    "    cleanText = re.sub(r'[^\\x00-\\x7f]', ' ', cleanText) \n",
    "    cleanText = re.sub('\\s+', ' ', cleanText)\n",
    "    return cleanText"
   ]
  },
  {
   "cell_type": "code",
   "execution_count": 25,
   "id": "a55454d6-a374-4b82-a3d0-7754e7563755",
   "metadata": {},
   "outputs": [],
   "source": [
    "import pickle\n",
    "\n",
    "svc_model = pickle.load(open('clf.pkl', 'rb'))  \n",
    "tfidf = pickle.load(open('tfidf.pkl', 'rb'))  \n",
    "le = pickle.load(open('encoder.pkl', 'rb'))  "
   ]
  },
  {
   "cell_type": "code",
   "execution_count": 28,
   "id": "0889f9bf-8467-46fe-8d9a-db5af8171aa5",
   "metadata": {},
   "outputs": [],
   "source": [
    "def pred(input_resume):\n",
    "    cleaned_text = processing(input_resume)\n",
    "    \n",
    "    vectorized_text = tfidf.transform([cleaned_text])\n",
    "\n",
    "    vectorized_text = vectorized_text.toarray()\n",
    "\n",
    "\n",
    "    predicted_category = svc_model.predict(vectorized_text)\n",
    "\n",
    "    predicted_category_name = le.inverse_transform(predicted_category)\n",
    "\n",
    "    return predicted_category_name[0]"
   ]
  },
  {
   "cell_type": "code",
   "execution_count": 29,
   "id": "18adba6b-fade-45df-99b6-deaf4d06e1d8",
   "metadata": {},
   "outputs": [
    {
     "name": "stdout",
     "output_type": "stream",
     "text": [
      "Predicted Resume Category: Data Science\n"
     ]
    }
   ],
   "source": [
    "predicted_category = pred(resume_text)\n",
    "print(\"Predicted Resume Category:\", predicted_category)"
   ]
  }
 ],
 "metadata": {
  "kernelspec": {
   "display_name": "Python (myenv)",
   "language": "python",
   "name": "myenv"
  },
  "language_info": {
   "codemirror_mode": {
    "name": "ipython",
    "version": 3
   },
   "file_extension": ".py",
   "mimetype": "text/x-python",
   "name": "python",
   "nbconvert_exporter": "python",
   "pygments_lexer": "ipython3",
   "version": "3.11.8"
  }
 },
 "nbformat": 4,
 "nbformat_minor": 5
}
